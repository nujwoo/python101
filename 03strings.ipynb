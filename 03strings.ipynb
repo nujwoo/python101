{
 "cells": [
  {
   "cell_type": "markdown",
   "id": "6a2d9a04",
   "metadata": {
    "deletable": true,
    "editable": true
   },
   "source": [
    "## Strings\n",
    "Strings are lists of printable characters, and can be defined using either single quotes"
   ]
  },
  {
   "cell_type": "code",
   "execution_count": null,
   "id": "870b6f61",
   "metadata": {
    "collapsed": false,
    "deletable": true,
    "editable": true,
    "jupyter": {
     "outputs_hidden": false
    }
   },
   "outputs": [],
   "source": [
    "'Hello, World!'"
   ]
  },
  {
   "cell_type": "markdown",
   "id": "7d4b7ae8",
   "metadata": {
    "deletable": true,
    "editable": true
   },
   "source": [
    "or double quotes"
   ]
  },
  {
   "cell_type": "code",
   "execution_count": null,
   "id": "8dc8d884",
   "metadata": {
    "collapsed": false,
    "deletable": true,
    "editable": true,
    "jupyter": {
     "outputs_hidden": false
    }
   },
   "outputs": [],
   "source": [
    "\"Hello, World!\""
   ]
  },
  {
   "cell_type": "markdown",
   "id": "a5052e22",
   "metadata": {
    "deletable": true,
    "editable": true
   },
   "source": [
    "But not both at the same time, unless you want one of the symbols to be part of the string."
   ]
  },
  {
   "cell_type": "code",
   "execution_count": null,
   "id": "7e75c392",
   "metadata": {
    "collapsed": false,
    "deletable": true,
    "editable": true,
    "jupyter": {
     "outputs_hidden": false
    }
   },
   "outputs": [],
   "source": [
    "\"He's a Rebel\""
   ]
  },
  {
   "cell_type": "code",
   "execution_count": null,
   "id": "d3980e17",
   "metadata": {
    "collapsed": false,
    "deletable": true,
    "editable": true,
    "jupyter": {
     "outputs_hidden": false
    }
   },
   "outputs": [],
   "source": [
    "'She asked, \"How are you today?\"'"
   ]
  },
  {
   "cell_type": "markdown",
   "id": "2b12cb7b",
   "metadata": {
    "deletable": true,
    "editable": true
   },
   "source": [
    "Just like the other two data objects we're familiar with (ints and floats), you can assign a string to a variable"
   ]
  },
  {
   "cell_type": "code",
   "execution_count": null,
   "id": "db4b71c7",
   "metadata": {
    "collapsed": false,
    "deletable": true,
    "editable": true,
    "jupyter": {
     "outputs_hidden": false
    }
   },
   "outputs": [],
   "source": [
    "greeting = \"Hello, World!\""
   ]
  },
  {
   "cell_type": "markdown",
   "id": "a2404452",
   "metadata": {
    "deletable": true,
    "editable": true
   },
   "source": [
    "The **print** statement is often used for printing character strings:"
   ]
  },
  {
   "cell_type": "code",
   "execution_count": null,
   "id": "a2fef97f",
   "metadata": {
    "collapsed": false,
    "deletable": true,
    "editable": true,
    "jupyter": {
     "outputs_hidden": false
    }
   },
   "outputs": [],
   "source": [
    "print(greeting)"
   ]
  },
  {
   "cell_type": "markdown",
   "id": "5d0410c0",
   "metadata": {
    "deletable": true,
    "editable": true
   },
   "source": [
    "But it can also print data types other than strings:"
   ]
  },
  {
   "cell_type": "code",
   "execution_count": null,
   "id": "a056eaac-74ac-4a44-834d-b789bc81c310",
   "metadata": {},
   "outputs": [],
   "source": [
    "width = 20\n",
    "length = 30\n",
    "area = length*width\n",
    "print(\"The area is \",area)"
   ]
  },
  {
   "cell_type": "markdown",
   "id": "a947ce34",
   "metadata": {
    "deletable": true,
    "editable": true
   },
   "source": [
    "In the above snipped, the number 600 (stored in the variable \"area\") is converted into a string before being printed out.\n",
    "\n",
    "A more practical way of printing complex combinations strings of strings and numbers is with the substitution character `{}`:"
   ]
  },
  {
   "cell_type": "code",
   "execution_count": null,
   "id": "a04051d5",
   "metadata": {
    "collapsed": false,
    "deletable": true,
    "editable": true,
    "jupyter": {
     "outputs_hidden": false
    }
   },
   "outputs": [],
   "source": [
    "print(\"The area is {} ({}x{}).\".format(area, length, width))"
   ]
  },
  {
   "cell_type": "markdown",
   "id": "414be037",
   "metadata": {
    "deletable": true,
    "editable": true
   },
   "source": [
    "You can use the + operator to concatenate strings together:"
   ]
  },
  {
   "cell_type": "code",
   "execution_count": null,
   "id": "d2ed8847",
   "metadata": {
    "collapsed": false,
    "deletable": true,
    "editable": true,
    "jupyter": {
     "outputs_hidden": false
    }
   },
   "outputs": [],
   "source": [
    "statement = \"Hello,\" + \"World!\"\n",
    "print(statement)"
   ]
  },
  {
   "cell_type": "markdown",
   "id": "6e191307",
   "metadata": {
    "deletable": true,
    "editable": true
   },
   "source": [
    "Don't forget the space between the strings, if you want one there. "
   ]
  },
  {
   "cell_type": "code",
   "execution_count": null,
   "id": "99f58245",
   "metadata": {
    "collapsed": false,
    "deletable": true,
    "editable": true,
    "jupyter": {
     "outputs_hidden": false
    }
   },
   "outputs": [],
   "source": [
    "statement = \"Hello, \" + \"World!\"\n",
    "print(statement)"
   ]
  },
  {
   "cell_type": "markdown",
   "id": "b3710948",
   "metadata": {
    "deletable": true,
    "editable": true
   },
   "source": [
    "You can use + to concatenate multiple strings in a single statement:"
   ]
  },
  {
   "cell_type": "code",
   "execution_count": null,
   "id": "a7bdbc4b",
   "metadata": {
    "collapsed": false,
    "deletable": true,
    "editable": true,
    "jupyter": {
     "outputs_hidden": false
    }
   },
   "outputs": [],
   "source": [
    "print(\"This \" + \"is \" + \"a \" + \"longer \" + \"statement.\")"
   ]
  },
  {
   "cell_type": "markdown",
   "id": "37734ce4",
   "metadata": {
    "deletable": true,
    "editable": true
   },
   "source": [
    "If you have a lot of words to concatenate together, there are other, more efficient ways to do this. But this is fine for linking a few strings together."
   ]
  }
 ],
 "metadata": {
  "kernelspec": {
   "display_name": "Python 3 (ipykernel)",
   "language": "python",
   "name": "python3"
  },
  "language_info": {
   "codemirror_mode": {
    "name": "ipython",
    "version": 3
   },
   "file_extension": ".py",
   "mimetype": "text/x-python",
   "name": "python",
   "nbconvert_exporter": "python",
   "pygments_lexer": "ipython3",
   "version": "3.8.13"
  }
 },
 "nbformat": 4,
 "nbformat_minor": 5
}
