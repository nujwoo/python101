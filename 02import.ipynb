{
 "cells": [
  {
   "cell_type": "markdown",
   "id": "c499074b",
   "metadata": {
    "deletable": true,
    "editable": true
   },
   "source": [
    "## Importing libraries"
   ]
  },
  {
   "cell_type": "markdown",
   "id": "aed8bde0",
   "metadata": {
    "deletable": true,
    "editable": true
   },
   "source": [
    "Python has a huge number of libraries included with the distribution. To keep things simple, most of these variables and functions are not accessible from a normal Python interactive session. Instead, you have to import the name. For example, there is a **math** module containing many useful functions. To access, say, the square root function, you first import the library:"
   ]
  },
  {
   "cell_type": "code",
   "execution_count": null,
   "id": "75de93c7",
   "metadata": {
    "collapsed": false,
    "deletable": true,
    "editable": true,
    "jupyter": {
     "outputs_hidden": false
    }
   },
   "outputs": [],
   "source": [
    "import math\n",
    "math.sqrt(81)"
   ]
  },
  {
   "cell_type": "markdown",
   "id": "4ad70112",
   "metadata": {
    "deletable": true,
    "editable": true
   },
   "source": [
    "If you are going to use `sqrt` a lot in your code, you might not want to prefix it with `math` all the time. In this case you can import it using\n",
    "\n",
    "    from math import sqrt\n",
    "\n",
    "and then simply type"
   ]
  },
  {
   "cell_type": "code",
   "execution_count": null,
   "id": "19ab0598",
   "metadata": {
    "collapsed": false,
    "deletable": true,
    "editable": true,
    "jupyter": {
     "outputs_hidden": false
    }
   },
   "outputs": [],
   "source": [
    "from math import sqrt\n",
    "sqrt(81)"
   ]
  },
  {
   "cell_type": "code",
   "execution_count": null,
   "id": "088d2f62-43d4-4490-9e55-ad300cedc883",
   "metadata": {},
   "outputs": [],
   "source": []
  }
 ],
 "metadata": {
  "kernelspec": {
   "display_name": "Python 3 (ipykernel)",
   "language": "python",
   "name": "python3"
  },
  "language_info": {
   "codemirror_mode": {
    "name": "ipython",
    "version": 3
   },
   "file_extension": ".py",
   "mimetype": "text/x-python",
   "name": "python",
   "nbconvert_exporter": "python",
   "pygments_lexer": "ipython3",
   "version": "3.8.13"
  }
 },
 "nbformat": 4,
 "nbformat_minor": 5
}
